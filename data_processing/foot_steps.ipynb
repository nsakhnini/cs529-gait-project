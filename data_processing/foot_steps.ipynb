{
 "cells": [
  {
   "cell_type": "code",
   "execution_count": 1,
   "metadata": {
    "id": "vxiBNtVV_mVC"
   },
   "outputs": [],
   "source": [
    "# pip install c3d"
   ]
  },
  {
   "cell_type": "code",
   "execution_count": 2,
   "metadata": {
    "id": "HQw_SeNF_sZ1"
   },
   "outputs": [],
   "source": [
    "#import c3d, csv, os\n",
    "#older c3d library doesn't support EVENT parameters\n",
    "from ezc3d import c3d as myc3d\n",
    "import csv, os"
   ]
  },
  {
   "cell_type": "code",
   "execution_count": 3,
   "metadata": {},
   "outputs": [],
   "source": [
    "counter = 0\n",
    "filepaths = []\n",
    "for root, dirs, files in os.walk('data'):\n",
    "    if len(files) > 1:\n",
    "        for file in files:\n",
    "            if 'ST' not in file:\n",
    "                counter += 1    \n",
    "                filepath = root + \"\\\\\" + file\n",
    "                filepaths.append(filepath)\n",
    "filepaths.sort()\n",
    "print(\"Number of C3D files found:\", counter)"
   ]
  },
  {
   "cell_type": "code",
   "execution_count": 4,
   "metadata": {},
   "outputs": [],
   "source": [
    "%%capture cap --no-stderr\n",
    "# we only read the labels once from one file since they are the same in all files\n",
    "file = \"data/2014001/2014001_C1_01.c3d\"\n",
    "%run -i c3d-metadata $file"
   ]
  },
  {
   "cell_type": "code",
   "execution_count": 5,
   "metadata": {},
   "outputs": [],
   "source": [
    "with open('output.txt', 'w') as f:\n",
    "    f.write(cap.stdout)\n",
    "\n",
    "with open('footsteps.csv', mode='w') as footsteps:\n",
    "    writer = csv.writer(footsteps)\n",
    "    # frame data starts here\n",
    "    count = 0\n",
    "    for path in filepaths:\n",
    "        handle = open(path, 'rb')\n",
    "        reader = c3d.Reader(handle)\n",
    "        ID = handle.name.split('\\\\')[2].split('_')[0]\n",
    "        speed = handle.name.split('_')[1][1]\n",
    "        trial = handle.name.split('_')[2].split('.')[0][1]\n",
    "        counter = 0\n",
    "        row = ID + \" \" + speed + \" \" + trial + \" \"\n",
    "        item = myc3d(path)\n",
    "        ctx = item['parameters']['EVENT']['CONTEXTS']['value']\n",
    "        labels = item['parameters']['EVENT']['LABELS']['value']\n",
    "        times = item['parameters']['EVENT']['TIMES']['value'][1]\n",
    "        for i in range(0, 7):\n",
    "            row += str(ctx[i]).lower() +\"_\"+ str(labels[i]).lower().replace(\" \", \"_\") + ' ' + str(times[i]) +' '\n",
    "        writer.writerow(row.split(' '))"
   ]
  },
  {
   "cell_type": "code",
   "execution_count": 6,
   "metadata": {},
   "outputs": [],
   "source": [
    "#Had to do some manual modification too\n"
   ]
  },
  {
   "cell_type": "code",
   "execution_count": null,
   "metadata": {},
   "outputs": [],
   "source": []
  }
 ],
 "metadata": {
  "colab": {
   "name": "data_processing.ipynb",
   "provenance": []
  },
  "kernelspec": {
   "display_name": "Python 3",
   "language": "python",
   "name": "python3"
  },
  "language_info": {
   "codemirror_mode": {
    "name": "ipython",
    "version": 3
   },
   "file_extension": ".py",
   "mimetype": "text/x-python",
   "name": "python",
   "nbconvert_exporter": "python",
   "pygments_lexer": "ipython3",
   "version": "3.7.7"
  }
 },
 "nbformat": 4,
 "nbformat_minor": 1
}
