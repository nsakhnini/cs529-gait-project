{
 "cells": [
  {
   "cell_type": "code",
   "execution_count": 1,
   "metadata": {
    "id": "HQw_SeNF_sZ1"
   },
   "outputs": [],
   "source": [
    "import pandas as pd"
   ]
  },
  {
   "cell_type": "code",
   "execution_count": 11,
   "metadata": {},
   "outputs": [],
   "source": [
    "demo_data = pd.read_csv(\"C:\\\\Users\\\\sakhn\\\\Downloads\\\\Demographics.csv\")\n",
    "full_data = pd.read_csv(\"C:\\\\Users\\\\sakhn\\\\Downloads\\\\Markers_full.csv\", low_memory=False)"
   ]
  },
  {
   "cell_type": "code",
   "execution_count": 3,
   "metadata": {},
   "outputs": [],
   "source": [
    "ids = demo_data[\"ID\"]\n",
    "speeds = [1,2,3,4,5]\n",
    "trials = [1,2,3,4,5]"
   ]
  },
  {
   "cell_type": "code",
   "execution_count": 6,
   "metadata": {},
   "outputs": [
    {
     "name": "stdout",
     "output_type": "stream",
     "text": [
      "   timestamp  Participant  Speed  Trial      L_IAS_X     L_IAS_Y     L_IAS_Z  \\\n",
      "0          0      2014001      1      1  1060.975342  247.142334  875.189941   \n",
      "1          0      2014001      1      1  1056.027466  246.235306  874.017883   \n",
      "2          0      2014001      1      1  1050.907959  245.306351  872.863098   \n",
      "3          0      2014001      1      1  1045.627075  244.355438  871.746155   \n",
      "4          0      2014001      1      1  1040.200684  243.380005  870.690247   \n",
      "\n",
      "       L_IPS_X     L_IPS_Y     L_IPS_Z  ...     R_RSP_Z      R_UHE_X  \\\n",
      "0  1240.101074  319.972290  904.939270  ...  800.691956  1085.277710   \n",
      "1  1235.340820  318.272827  904.313965  ...  800.291870  1081.547241   \n",
      "2  1230.442871  316.500122  903.689209  ...  799.859192  1077.862671   \n",
      "3  1225.416016  314.656372  903.084168  ...  799.401916  1074.222778   \n",
      "4  1220.272339  312.746338  902.522400  ...  798.933044  1070.621948   \n",
      "\n",
      "      R_UHE_Y     R_UHE_Z      R_HM2_X     R_HM2_Y     R_HM2_Z      R_HM5_X  \\\n",
      "0  634.979065  793.047180  1005.272461  574.926880  715.090393  1086.359741   \n",
      "1  633.387878  792.569092  1001.236450  573.540161  714.702576  1082.499268   \n",
      "2  631.755554  792.071777   997.198731  572.156372  714.282043  1078.662964   \n",
      "3  630.081909  791.567200   993.165832  570.777527  713.836670  1074.851685   \n",
      "4  628.366394  791.072449   989.145813  569.404053  713.377991  1071.068359   \n",
      "\n",
      "      R_HM5_Y     R_HM5_Z  \n",
      "0  633.957581  713.039429  \n",
      "1  632.353821  712.562012  \n",
      "2  630.716980  712.072327  \n",
      "3  629.049744  711.583130  \n",
      "4  627.354126  711.111816  \n",
      "\n",
      "[5 rows x 160 columns]\n"
     ]
    }
   ],
   "source": [
    "print(full_data.head())"
   ]
  },
  {
   "cell_type": "code",
   "execution_count": 13,
   "metadata": {},
   "outputs": [
    {
     "name": "stdout",
     "output_type": "stream",
     "text": [
      "2014011\n",
      "2014029\n",
      "2014016\n",
      "2014019\n",
      "2015017\n",
      "2015026\n",
      "2015021\n",
      "2015043\n",
      "2015020\n",
      "2015027\n",
      "2015042\n",
      "2015005\n",
      "2015002\n",
      "2015003\n",
      "2015004\n",
      "2015032\n",
      "2015035\n",
      "2014050\n",
      "2014003\n",
      "2014004\n",
      "2014051\n",
      "2014034\n",
      "2014033\n",
      "2014005\n",
      "2014002\n",
      "2014046\n",
      "2014048\n",
      "2014024\n",
      "2014015\n",
      "2014049\n",
      "2014040\n",
      "2014013\n",
      "2014014\n",
      "2014022\n",
      "2014025\n",
      "2015013\n",
      "2015041\n",
      "2015015\n",
      "2015030\n",
      "2015037\n",
      "2015007\n",
      "2014007\n",
      "2014009\n",
      "2014031\n",
      "2014053\n",
      "2014030\n",
      "2014008\n",
      "2014001\n",
      "2014006\n",
      "2014052\n"
     ]
    }
   ],
   "source": [
    "for id in ids:\n",
    "    print(id)\n",
    "    participant = full_data['Participant']==id\n",
    "    print(participant.head())"
   ]
  },
  {
   "cell_type": "code",
   "execution_count": null,
   "metadata": {},
   "outputs": [],
   "source": []
  }
 ],
 "metadata": {
  "colab": {
   "name": "data_processing.ipynb",
   "provenance": []
  },
  "kernelspec": {
   "display_name": "Python 3",
   "language": "python",
   "name": "python3"
  },
  "language_info": {
   "codemirror_mode": {
    "name": "ipython",
    "version": 3
   },
   "file_extension": ".py",
   "mimetype": "text/x-python",
   "name": "python",
   "nbconvert_exporter": "python",
   "pygments_lexer": "ipython3",
   "version": "3.7.7"
  }
 },
 "nbformat": 4,
 "nbformat_minor": 1
}
