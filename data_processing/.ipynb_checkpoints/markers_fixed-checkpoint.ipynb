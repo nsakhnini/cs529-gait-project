{
 "cells": [
  {
   "cell_type": "code",
   "execution_count": null,
   "metadata": {},
   "outputs": [],
   "source": [
    "# pip install c3d"
   ]
  },
  {
   "cell_type": "code",
   "execution_count": 1,
   "metadata": {},
   "outputs": [],
   "source": [
    "import csv, os\n",
    "from ezc3d import c3d as my_c3d\n",
    "import pandas as pd"
   ]
  },
  {
   "cell_type": "code",
   "execution_count": 2,
   "metadata": {},
   "outputs": [
    {
     "name": "stdout",
     "output_type": "stream",
     "text": [
      "Number of C3D files found: 1143\n"
     ]
    }
   ],
   "source": [
    "counter = 0\n",
    "filepaths = []\n",
    "for root, dirs, files in os.walk('C:\\\\Users\\\\sakhn\\\\Downloads\\\\gait_data\\\\data'):\n",
    "    if len(files) > 1:\n",
    "        for file in files:\n",
    "            if 'ST' not in file:\n",
    "                counter += 1    \n",
    "                filepath = root + \"\\\\\" + file\n",
    "                filepaths.append(filepath)\n",
    "filepaths.sort()\n",
    "print(\"Number of C3D files found:\", counter)"
   ]
  },
  {
   "cell_type": "code",
   "execution_count": 3,
   "metadata": {},
   "outputs": [],
   "source": [
    "    for path in filepaths:\n",
    "        handle = open(path, 'rb')\n",
    "        ID = handle.name.split('\\\\')[7].split('_')[0]\n",
    "        speed = handle.name.split('_')[2].replace('C','')\n",
    "        trial = handle.name.split('_')[3].split('.')[0]\n",
    "        \n",
    "        c = my_c3d(path)\n",
    "        data_points = c['data']['points']\n",
    "        header = \"Participant,Speed,Trial,\"\n",
    "        for i in range(0,len(c['parameters']['POINT']['LABELS']['value'])):\n",
    "            if i<51:\n",
    "                header = header + c['parameters']['POINT']['LABELS']['value'][i] +'_X,'+ c['parameters']['POINT']['LABELS']['value'][i] +'_Y,'+ c['parameters']['POINT']['LABELS']['value'][i] +'_Z,'\n",
    "            else:\n",
    "                header = header + c['parameters']['POINT']['LABELS']['value'][i] +'_X,'+ c['parameters']['POINT']['LABELS']['value'][i] +'_Y,'+ c['parameters']['POINT']['LABELS']['value'][i] +'_Z'\n",
    "            \n",
    "        with open('markers/markers_'+ID + '_' + speed + '_' + trial[1] +'.csv', mode='w',newline='') as participant:\n",
    "            writer = csv.writer(participant)\n",
    "            writer.writerow(header.split(','))\n",
    "            row = ID + \",\" + speed + \",\" + trial + \",\"\n",
    "            for k in range(0, len(data_points[0][0])): # goes from 1 to max frame length\n",
    "                for i in range(0, len(data_points[0])):\n",
    "                    if (i== len(data_points[0])-1):\n",
    "                        row += str(data_points[0][i][k]) + ',' + str(data_points[1][i][k]) + ',' + str(data_points[2][i][k])\n",
    "                    else:\n",
    "                        row += str(data_points[0][i][k]) + ',' + str(data_points[1][i][k]) + ',' + str(data_points[2][i][k]) + ','\n",
    "                writer.writerow(row.split(','))\n",
    "                row = ID + \",\" + speed + \",\" + trial + \",\""
   ]
  },
  {
   "cell_type": "code",
   "execution_count": null,
   "metadata": {},
   "outputs": [],
   "source": []
  }
 ],
 "metadata": {
  "kernelspec": {
   "display_name": "Python 3",
   "language": "python",
   "name": "python3"
  },
  "language_info": {
   "codemirror_mode": {
    "name": "ipython",
    "version": 3
   },
   "file_extension": ".py",
   "mimetype": "text/x-python",
   "name": "python",
   "nbconvert_exporter": "python",
   "pygments_lexer": "ipython3",
   "version": "3.7.7"
  }
 },
 "nbformat": 4,
 "nbformat_minor": 4
}
