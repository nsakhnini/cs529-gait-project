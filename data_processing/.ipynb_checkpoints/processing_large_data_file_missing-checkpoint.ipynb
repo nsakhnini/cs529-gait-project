{
 "cells": [
  {
   "cell_type": "code",
   "execution_count": 1,
   "metadata": {
    "id": "HQw_SeNF_sZ1"
   },
   "outputs": [],
   "source": [
    "import pandas as pd"
   ]
  },
  {
   "cell_type": "code",
   "execution_count": 2,
   "metadata": {},
   "outputs": [],
   "source": [
    "demo_data = pd.read_csv(\"C:\\\\Users\\\\sakhn\\\\Downloads\\\\Demographics.csv\")\n",
    "#full_data = pd.read_csv(\"C:\\\\Users\\\\sakhn\\\\Downloads\\\\out.csv\", low_memory=False)\n",
    "full_data = pd.read_csv(\"C:\\\\Users\\\\sakhn\\\\Desktop\\\\cs529-gait-project\\\\data_processing\\\\markers_missing_2015026.csv\", low_memory=False)\n",
    "#test = pd.read_csv(\"C:\\\\Users\\\\sakhn\\\\Desktop\\\\cs529-gait-project\\\\data_processing\\\\out.csv\", low_memroy=False)"
   ]
  },
  {
   "cell_type": "code",
   "execution_count": 3,
   "metadata": {},
   "outputs": [],
   "source": [
    "#For removing empty lines\n",
    "#with open('C:\\\\Users\\\\sakhn\\\\Desktop\\\\cs529-gait-project\\\\data_processing\\\\markers.csv','r') as file:\n",
    "#    with open('out.csv','w') as outfile:\n",
    "#        for line in file:\n",
    "#            if not line.isspace():\n",
    "#                outfile.write(line)"
   ]
  },
  {
   "cell_type": "code",
   "execution_count": 4,
   "metadata": {},
   "outputs": [],
   "source": [
    "ids = demo_data[\"ID\"]\n",
    "speeds = [1,2,3,4,5]\n",
    "trials = [1,2,3,4,5]"
   ]
  },
  {
   "cell_type": "code",
   "execution_count": 5,
   "metadata": {},
   "outputs": [
    {
     "name": "stdout",
     "output_type": "stream",
     "text": [
      "   timestamp  Participant  Speed  Trial    L_IAS_X     L_IAS_Y      L_IAS_Z  \\\n",
      "0          0      2014051    1.0    1.0 -41.694027  444.142731  1077.388184   \n",
      "1          0      2014051    1.0    1.0 -37.238045  444.104706  1076.591919   \n",
      "2          0      2014051    1.0    1.0 -32.680420  444.066681  1075.769897   \n",
      "3          0      2014051    1.0    1.0 -28.027496  444.026062  1074.950317   \n",
      "4          0      2014051    1.0    1.0 -23.286640  443.978973  1074.165283   \n",
      "\n",
      "      L_IPS_X     L_IPS_Y      L_IPS_Z  ...     R_RSP_Z     R_UHE_X  \\\n",
      "0 -244.836685  321.047028  1100.519897  ...  908.633728 -125.050942   \n",
      "1 -239.831741  320.088654  1100.009766  ...  907.888001 -120.116508   \n",
      "2 -234.731949  319.119293  1099.463379  ...  907.097473 -115.094994   \n",
      "3 -229.547195  318.150391  1098.902466  ...  906.281311 -109.989105   \n",
      "4 -224.286514  317.194672  1098.354492  ...  905.465332 -104.803261   \n",
      "\n",
      "     R_UHE_Y     R_UHE_Z    R_HM2_X    R_HM2_Y     R_HM2_Z     R_HM5_X  \\\n",
      "0  -8.996258  897.097778 -22.779541  38.474380  803.341370 -127.551338   \n",
      "1  -9.704089  896.401489 -18.019445  37.890343  802.496399 -122.725128   \n",
      "2 -10.435315  895.667786 -13.190903  37.279934  801.614929 -117.817871   \n",
      "3 -11.190218  894.920654  -8.297663  36.638371  800.719116 -112.837692   \n",
      "4 -11.968535  894.190857  -3.348719  35.962765  799.834412 -107.795525   \n",
      "\n",
      "    R_HM5_Y     R_HM5_Z  \n",
      "0 -1.366543  797.342163  \n",
      "1 -2.066836  796.648682  \n",
      "2 -2.793151  795.918091  \n",
      "3 -3.551556  795.174927  \n",
      "4 -4.348109  794.450623  \n",
      "\n",
      "[5 rows x 136 columns]\n"
     ]
    }
   ],
   "source": [
    "print(full_data.head())"
   ]
  },
  {
   "cell_type": "code",
   "execution_count": 6,
   "metadata": {},
   "outputs": [
    {
     "name": "stdout",
     "output_type": "stream",
     "text": [
      "2014011\n",
      "2014029\n",
      "2014016\n",
      "2014019\n",
      "2015017\n",
      "2015026\n",
      "2015021\n",
      "2015043\n",
      "2015020\n",
      "2015027\n",
      "2015042\n",
      "2015005\n",
      "2015002\n",
      "2015003\n",
      "2015004\n",
      "2015032\n",
      "2015035\n",
      "2014050\n",
      "2014003\n",
      "2014004\n",
      "2014051\n",
      "2014034\n",
      "2014033\n",
      "2014005\n",
      "2014002\n",
      "2014046\n",
      "2014048\n",
      "2014024\n",
      "2014015\n",
      "2014049\n",
      "2014040\n",
      "2014013\n",
      "2014014\n",
      "2014022\n",
      "2014025\n",
      "2015013\n",
      "2015041\n",
      "2015015\n",
      "2015030\n",
      "2015037\n",
      "2015007\n",
      "2014007\n",
      "2014009\n",
      "2014031\n",
      "2014053\n",
      "2014030\n",
      "2014008\n",
      "2014001\n",
      "2014006\n",
      "2014052\n"
     ]
    }
   ],
   "source": [
    "for id in ids:\n",
    "    print(id)\n",
    "    participant = full_data[full_data['Participant']==id]\n",
    "    participant = participant.reset_index(drop=True)\n",
    "    for s in speeds:\n",
    "        p_speed = participant[participant[\"Speed\"] == s]\n",
    "        p_speed = p_speed.reset_index(drop=True)\n",
    "        for t in trials:\n",
    "            p_speed_trial = p_speed[p_speed[\"Trial\"] == t]\n",
    "            p_speed_trial = p_speed_trial.reset_index(drop=True)\n",
    "            p_speed_trial[\"timestamp\"] = p_speed_trial.index\n",
    "            path = \"C:\\\\Users\\\\sakhn\\\\Downloads\\\\markers\\\\missing2\\\\markers_\" +str(id ) + \"_\" +str(s) + \"_\" + str(t) + \".csv\"\n",
    "            p_speed_trial.to_csv(path, index=False)"
   ]
  },
  {
   "cell_type": "code",
   "execution_count": null,
   "metadata": {},
   "outputs": [],
   "source": []
  }
 ],
 "metadata": {
  "colab": {
   "name": "data_processing.ipynb",
   "provenance": []
  },
  "kernelspec": {
   "display_name": "Python 3",
   "language": "python",
   "name": "python3"
  },
  "language_info": {
   "codemirror_mode": {
    "name": "ipython",
    "version": 3
   },
   "file_extension": ".py",
   "mimetype": "text/x-python",
   "name": "python",
   "nbconvert_exporter": "python",
   "pygments_lexer": "ipython3",
   "version": "3.7.7"
  }
 },
 "nbformat": 4,
 "nbformat_minor": 1
}
