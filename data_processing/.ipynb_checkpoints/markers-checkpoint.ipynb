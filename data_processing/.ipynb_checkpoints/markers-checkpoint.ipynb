{
 "cells": [
  {
   "cell_type": "code",
   "execution_count": 1,
   "metadata": {},
   "outputs": [],
   "source": [
    "# pip install c3d"
   ]
  },
  {
   "cell_type": "code",
   "execution_count": 2,
   "metadata": {},
   "outputs": [],
   "source": [
    "import c3d, csv, os"
   ]
  },
  {
   "cell_type": "code",
   "execution_count": 3,
   "metadata": {},
   "outputs": [
    {
     "name": "stdout",
     "output_type": "stream",
     "text": [
      "Number of C3D files found: 1143\n"
     ]
    }
   ],
   "source": [
    "counter = 0\n",
    "filepaths = []\n",
    "for root, dirs, files in os.walk('C:\\\\Users\\\\sakhn\\\\Downloads\\\\gait_data\\\\data'):\n",
    "    if len(files) > 1:\n",
    "        for file in files:\n",
    "            if 'ST' not in file:\n",
    "                counter += 1    \n",
    "                filepath = root + \"\\\\\" + file\n",
    "                filepaths.append(filepath)\n",
    "filepaths.sort()\n",
    "print(\"Number of C3D files found:\", counter)"
   ]
  },
  {
   "cell_type": "code",
   "execution_count": 4,
   "metadata": {},
   "outputs": [],
   "source": [
    "%%capture cap --no-stderr\n",
    "# we only read the labels once from one file since they are the same in all files\n",
    "file = \"C:\\\\Users\\\\sakhn\\\\Downloads\\\\gait_data\\\\data\\\\2014001\\\\2014001_C1_01.c3d\"\n",
    "%run -i c3d-metadata $file"
   ]
  },
  {
   "cell_type": "code",
   "execution_count": 5,
   "metadata": {},
   "outputs": [
    {
     "ename": "AttributeError",
     "evalue": "'_csv.writer' object has no attribute 'write'",
     "output_type": "error",
     "traceback": [
      "\u001b[1;31m---------------------------------------------------------------------------\u001b[0m",
      "\u001b[1;31mAttributeError\u001b[0m                            Traceback (most recent call last)",
      "\u001b[1;32m~\\Desktop\\cs529-gait-project\\data_processing\\c3d-metadata.py\u001b[0m in \u001b[0;36m<module>\u001b[1;34m\u001b[0m\n\u001b[0;32m     32\u001b[0m                 \u001b[1;31m# item[1] contains the 52 markers with 3 values each (X, Y, Z)\u001b[0m\u001b[1;33m\u001b[0m\u001b[1;33m\u001b[0m\u001b[1;33m\u001b[0m\u001b[0m\n\u001b[0;32m     33\u001b[0m                 \u001b[0mrow\u001b[0m \u001b[1;33m+=\u001b[0m \u001b[0mstr\u001b[0m\u001b[1;33m(\u001b[0m\u001b[0mitem\u001b[0m\u001b[1;33m[\u001b[0m\u001b[1;36m1\u001b[0m\u001b[1;33m]\u001b[0m\u001b[1;33m[\u001b[0m\u001b[0mi\u001b[0m\u001b[1;33m]\u001b[0m\u001b[1;33m[\u001b[0m\u001b[1;36m0\u001b[0m\u001b[1;33m]\u001b[0m\u001b[1;33m)\u001b[0m \u001b[1;33m+\u001b[0m \u001b[1;34m' '\u001b[0m \u001b[1;33m+\u001b[0m \u001b[0mstr\u001b[0m\u001b[1;33m(\u001b[0m\u001b[0mitem\u001b[0m\u001b[1;33m[\u001b[0m\u001b[1;36m1\u001b[0m\u001b[1;33m]\u001b[0m\u001b[1;33m[\u001b[0m\u001b[0mi\u001b[0m\u001b[1;33m]\u001b[0m\u001b[1;33m[\u001b[0m\u001b[1;36m1\u001b[0m\u001b[1;33m]\u001b[0m\u001b[1;33m)\u001b[0m \u001b[1;33m+\u001b[0m \u001b[1;34m' '\u001b[0m \u001b[1;33m+\u001b[0m \u001b[0mstr\u001b[0m\u001b[1;33m(\u001b[0m\u001b[0mitem\u001b[0m\u001b[1;33m[\u001b[0m\u001b[1;36m1\u001b[0m\u001b[1;33m]\u001b[0m\u001b[1;33m[\u001b[0m\u001b[0mi\u001b[0m\u001b[1;33m]\u001b[0m\u001b[1;33m[\u001b[0m\u001b[1;36m2\u001b[0m\u001b[1;33m]\u001b[0m\u001b[1;33m)\u001b[0m \u001b[1;33m+\u001b[0m \u001b[1;34m' '\u001b[0m\u001b[1;33m\u001b[0m\u001b[1;33m\u001b[0m\u001b[0m\n\u001b[1;32m---> 34\u001b[1;33m             \u001b[0mwriter\u001b[0m\u001b[1;33m.\u001b[0m\u001b[0mwrite\u001b[0m\u001b[1;33m(\u001b[0m\u001b[0mrow\u001b[0m\u001b[1;33m.\u001b[0m\u001b[0msplit\u001b[0m\u001b[1;33m(\u001b[0m\u001b[1;34m' '\u001b[0m\u001b[1;33m)\u001b[0m\u001b[1;33m)\u001b[0m\u001b[1;33m\u001b[0m\u001b[1;33m\u001b[0m\u001b[0m\n\u001b[0m\u001b[0;32m     35\u001b[0m             \u001b[0mrow\u001b[0m \u001b[1;33m=\u001b[0m \u001b[0mID\u001b[0m \u001b[1;33m+\u001b[0m \u001b[1;34m\" \"\u001b[0m \u001b[1;33m+\u001b[0m \u001b[0mspeed\u001b[0m \u001b[1;33m+\u001b[0m \u001b[1;34m\" \"\u001b[0m \u001b[1;33m+\u001b[0m \u001b[0mtrial\u001b[0m \u001b[1;33m+\u001b[0m \u001b[1;34m\" \"\u001b[0m\u001b[1;33m\u001b[0m\u001b[1;33m\u001b[0m\u001b[0m\n\u001b[0;32m     36\u001b[0m         \u001b[0mcount\u001b[0m \u001b[1;33m+=\u001b[0m \u001b[1;36m1\u001b[0m\u001b[1;33m\u001b[0m\u001b[1;33m\u001b[0m\u001b[0m\n",
      "\u001b[1;31mAttributeError\u001b[0m: '_csv.writer' object has no attribute 'write'"
     ]
    }
   ],
   "source": [
    "with open('output.txt', 'w') as f:\n",
    "    f.write(cap.stdout)\n",
    "\n",
    "with open('markers.csv', mode='w') as participants:\n",
    "    writer = csv.writer(participants)\n",
    "    header1 = \"Participant Speed Trial \"\n",
    "    header2 = \"# # # \"\n",
    "    header3 = \" \"\n",
    "    r = open('output.txt')\n",
    "    for index, line in enumerate(r):\n",
    "        if \"POINT.LABELS[\" in line:\n",
    "            marker = line.split(' ')[2].split('\\'')[1]\n",
    "            header1 += marker + ' ' + marker + ' ' + marker + ' '\n",
    "            header2 += \"X Y Z\" + ' '\n",
    "    writer.writerow(header1.split(' '))\n",
    "    writer.writerow(header2.split(' '))\n",
    "    writer.writerow(header3)\n",
    "\n",
    "    # frame data starts here\n",
    "    count = 0\n",
    "    for path in filepaths:\n",
    "        handle = open(path, 'rb')\n",
    "        reader = c3d.Reader(handle)\n",
    "        ID = handle.name.split('\\\\')[7].split('_')[0]\n",
    "        speed = handle.name.split('_')[2]\n",
    "        trial = handle.name.split('_')[3].split('.')[0]\n",
    "        counter = 0\n",
    "        row = ID + \" \" + speed + \" \" + trial + \" \"\n",
    "        for item in reader.read_frames():\n",
    "            counter += 1\n",
    "            for i in range(0, len(item[1])):\n",
    "                # item[1] contains the 52 markers with 3 values each (X, Y, Z)\n",
    "                row += str(item[1][i][0]) + ' ' + str(item[1][i][1]) + ' ' + str(item[1][i][2]) + ' '\n",
    "            writer.writerow(row.split(' '))\n",
    "            row = ID + \" \" + speed + \" \" + trial + \" \"\n",
    "        count += 1\n",
    "        # only write two participants to the CSV then exit ### comment out next 2 lines for full dataset\n",
    "        #if count == 45:\n",
    "         #   break"
   ]
  },
  {
   "cell_type": "code",
   "execution_count": null,
   "metadata": {},
   "outputs": [],
   "source": []
  }
 ],
 "metadata": {
  "kernelspec": {
   "display_name": "Python 3",
   "language": "python",
   "name": "python3"
  },
  "language_info": {
   "codemirror_mode": {
    "name": "ipython",
    "version": 3
   },
   "file_extension": ".py",
   "mimetype": "text/x-python",
   "name": "python",
   "nbconvert_exporter": "python",
   "pygments_lexer": "ipython3",
   "version": "3.7.7"
  }
 },
 "nbformat": 4,
 "nbformat_minor": 4
}
