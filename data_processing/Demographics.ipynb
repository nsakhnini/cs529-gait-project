{
 "cells": [
  {
   "cell_type": "code",
   "execution_count": null,
   "metadata": {},
   "outputs": [],
   "source": [
    "import c3d, re, sys, csv, os\n",
    "\n",
    "def writeCSVLine(handle, writer, string):\n",
    "    target = os.path.basename(handle)\n",
    "    ID = target.split(\"_\")[ 0 ]\n",
    "    components = string.split(\"SUBJECT.VALUES\")\n",
    "    del components[ 0 ]\n",
    "    del components[ 0 ]\n",
    "    data = []\n",
    "    for component in components:\n",
    "        m = re.search(r\".*= (.*)\", component)\n",
    "        field = m.group(1)\n",
    "        data.append(field)\n",
    "    age = data[ 0 ]\n",
    "    gender = data[ 1 ]\n",
    "    weight = data[ 2 ]\n",
    "    height = data[ 3 ]\n",
    "    rightleg = data[ 4 ]\n",
    "    leftleg = data[ 5]\n",
    "    writer.writerow([ID, age, gender, weight, height, rightleg, leftleg])"
   ]
  },
  {
   "cell_type": "code",
   "execution_count": null,
   "metadata": {},
   "outputs": [],
   "source": [
    "def get_param(g, p):\n",
    "    string = ''\n",
    "    string = string + '{0.name}.{1.name}: {1.total_bytes}B {1.dimensions}'.format(g, p)\n",
    "\n",
    "    if len(p.dimensions) == 0:\n",
    "        val = None\n",
    "        width = len(p.bytes)\n",
    "        if width == 2:\n",
    "            val = p.int16_value\n",
    "        elif width == 4:\n",
    "            val = p.float_value\n",
    "        else:\n",
    "            val = p.int8_value\n",
    "        string = string + '{0.name}.{1.name} = {2}'.format(g, p, val)\n",
    "\n",
    "    if len(p.dimensions) == 1 and p.dimensions[0] > 0:\n",
    "        arr = []\n",
    "        width = p.total_bytes // p.dimensions[0]\n",
    "        if width == 2:\n",
    "            arr = p.int16_array\n",
    "        elif width == 4:\n",
    "            arr = p.float_array\n",
    "        else:\n",
    "            arr = p.int8_array\n",
    "        for r, v in enumerate(arr):\n",
    "            string = string + '{0.name}.{1.name}[{2}] = {3}'.format(g, p, r, v)\n",
    "\n",
    "    if len(p.dimensions) == 2:\n",
    "        C, R = p.dimensions\n",
    "        for r in range(R):\n",
    "            string = string + '{0.name}.{1.name}[{2}] = {3}'.format(\n",
    "                g, p, r, repr(p.bytes[r * C:(r+1) * C]))\n",
    "\n",
    "    return string"
   ]
  },
  {
   "cell_type": "code",
   "execution_count": null,
   "metadata": {},
   "outputs": [],
   "source": [
    "def get_metadata(reader):\n",
    "    string = ''\n",
    "    groups = reader.groups.items()\n",
    "\n",
    "    for key, g in sorted(groups):\n",
    "        if key == 'SUBJECT':\n",
    "            for x, p in sorted(g.params.items()):\n",
    "                if x == 'VALUES':\n",
    "                    string = string + get_param(g, p)\n",
    "    return string"
   ]
  },
  {
   "cell_type": "code",
   "execution_count": null,
   "metadata": {},
   "outputs": [],
   "source": [
    "def main():\n",
    "    with open('participants.csv', mode='w') as participants:\n",
    "        writer = csv.writer(participants, delimiter=',')\n",
    "        writer.writerow(['ID', 'Age', 'Gender(0-woman 1-man)', 'Weight', 'Height', \n",
    "                         'Right leg length', 'Left leg length'])\n",
    "\n",
    "    file_pattern = re.compile(r\".*_.*_01.c3d\")\n",
    "    basepath_directory_contents = os.listdir(basepath)\n",
    "    for target_directory in basepath_directory_contents:\n",
    "        target_path = os.path.join(basepath, target_directory)\n",
    "        if (os.path.isdir(target_path)):\n",
    "            data_files = filter(file_pattern.match, os.listdir(target_path))\n",
    "            for data_file in data_files:\n",
    "                data_file_path = os.path.join(basepath, target_directory, data_file)\n",
    "                handle = data_file\n",
    "                try:\n",
    "                    string = ''\n",
    "                    string = string + '*** {} ***'.format(data_file)\n",
    "                    with open(data_file_path, 'rb') as handle:\n",
    "                        string = get_metadata(c3d.Reader(handle))\n",
    "                        writeCSVLine(data_file_path, writer, string)\n",
    "                except Exception as err:\n",
    "                    print(err)"
   ]
  },
  {
   "cell_type": "code",
   "execution_count": null,
   "metadata": {},
   "outputs": [],
   "source": [
    "basepath = \"data\"\n",
    "main()"
   ]
  }
 ],
 "metadata": {
  "kernelspec": {
   "display_name": "Python 3",
   "language": "python",
   "name": "python3"
  },
  "language_info": {
   "codemirror_mode": {
    "name": "ipython",
    "version": 3
   },
   "file_extension": ".py",
   "mimetype": "text/x-python",
   "name": "python",
   "nbconvert_exporter": "python",
   "pygments_lexer": "ipython3",
   "version": "3.7.3"
  }
 },
 "nbformat": 4,
 "nbformat_minor": 4
}
