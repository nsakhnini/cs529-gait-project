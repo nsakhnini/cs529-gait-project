{
 "cells": [
  {
   "cell_type": "code",
   "execution_count": 1,
   "metadata": {
    "id": "HQw_SeNF_sZ1"
   },
   "outputs": [],
   "source": [
    "import pandas as pd"
   ]
  },
  {
   "cell_type": "code",
   "execution_count": 2,
   "metadata": {},
   "outputs": [],
   "source": [
    "demo_data = pd.read_csv(\"C:\\\\Users\\\\sakhn\\\\Downloads\\\\Demographics.csv\")\n",
    "#full_data = pd.read_csv(\"C:\\\\Users\\\\sakhn\\\\Downloads\\\\out.csv\", low_memory=False)\n",
    "full_data = pd.read_csv(\"C:\\\\Users\\\\sakhn\\\\Desktop\\\\cs529-gait-project\\\\data_processing\\\\markers_missing_2015026.csv\", low_memory=False)\n",
    "#test = pd.read_csv(\"C:\\\\Users\\\\sakhn\\\\Desktop\\\\cs529-gait-project\\\\data_processing\\\\out.csv\", low_memroy=False)"
   ]
  },
  {
   "cell_type": "code",
   "execution_count": 3,
   "metadata": {},
   "outputs": [],
   "source": [
    "#For removing empty lines\n",
    "#with open('C:\\\\Users\\\\sakhn\\\\Desktop\\\\cs529-gait-project\\\\data_processing\\\\markers.csv','r') as file:\n",
    "#    with open('out.csv','w') as outfile:\n",
    "#        for line in file:\n",
    "#            if not line.isspace():\n",
    "#                outfile.write(line)"
   ]
  },
  {
   "cell_type": "code",
   "execution_count": 4,
   "metadata": {},
   "outputs": [],
   "source": [
    "ids = demo_data[\"ID\"]\n",
    "speeds = [1,2,3,4,5]\n",
    "trials = [1,2,3,4,5]"
   ]
  },
  {
   "cell_type": "code",
   "execution_count": 5,
   "metadata": {},
   "outputs": [
    {
     "name": "stdout",
     "output_type": "stream",
     "text": [
      "   timestamp  Participant  Speed  Trial     L_IAS_X     L_IAS_Y     L_IAS_Z  \\\n",
      "0          0      2015026    1.0    1.0  882.645264 -221.129166  949.452759   \n",
      "1          0      2015026    1.0    1.0  879.665161 -220.439392  949.122437   \n",
      "2          0      2015026    1.0    1.0  876.591126 -219.719162  948.775940   \n",
      "3          0      2015026    1.0    1.0  873.432312 -218.970413  948.410522   \n",
      "4          0      2015026    1.0    1.0  870.199890 -218.195389  948.026062   \n",
      "\n",
      "       L_IPS_X     L_IPS_Y     L_IPS_Z  ...     R_RSP_Z     R_UHE_X  \\\n",
      "0  1071.770752 -151.498016  947.675537  ...  845.758728  979.395691   \n",
      "1  1068.596802 -150.334030  947.181702  ...  844.734253  976.348816   \n",
      "2  1065.324951 -149.127716  946.695252  ...  843.712891  973.265015   \n",
      "3  1061.965942 -147.883087  946.213379  ...  842.698853  970.141235   \n",
      "4  1058.531738 -146.605606  945.732788  ...  841.695252  966.973450   \n",
      "\n",
      "      R_UHE_Y     R_UHE_Z     R_HM2_X     R_HM2_Y     R_HM2_Z     R_HM5_X  \\\n",
      "0  151.344116  838.529419  883.257568  146.455826  761.069885  984.317383   \n",
      "1  152.299927  837.573425  880.269653  147.221954  760.058655  981.312012   \n",
      "2  153.243942  836.616882  877.253662  147.967407  759.034180  978.278015   \n",
      "3  154.177155  835.664551  874.205383  148.690842  758.002258  975.211182   \n",
      "4  155.101639  834.720459  871.119873  149.391876  756.968445  972.106567   \n",
      "\n",
      "      R_HM5_Y     R_HM5_Z  \n",
      "0  158.052658  766.110840  \n",
      "1  158.942505  765.153015  \n",
      "2  159.810455  764.194031  \n",
      "3  160.656464  763.237854  \n",
      "4  161.482224  762.288269  \n",
      "\n",
      "[5 rows x 148 columns]\n"
     ]
    }
   ],
   "source": [
    "print(full_data.head())"
   ]
  },
  {
   "cell_type": "code",
   "execution_count": 6,
   "metadata": {},
   "outputs": [
    {
     "name": "stdout",
     "output_type": "stream",
     "text": [
      "2014011\n",
      "2014029\n",
      "2014016\n",
      "2014019\n",
      "2015017\n",
      "2015026\n",
      "2015021\n",
      "2015043\n",
      "2015020\n",
      "2015027\n",
      "2015042\n",
      "2015005\n",
      "2015002\n",
      "2015003\n",
      "2015004\n",
      "2015032\n",
      "2015035\n",
      "2014050\n",
      "2014003\n",
      "2014004\n",
      "2014051\n",
      "2014034\n",
      "2014033\n",
      "2014005\n",
      "2014002\n",
      "2014046\n",
      "2014048\n",
      "2014024\n",
      "2014015\n",
      "2014049\n",
      "2014040\n",
      "2014013\n",
      "2014014\n",
      "2014022\n",
      "2014025\n",
      "2015013\n",
      "2015041\n",
      "2015015\n",
      "2015030\n",
      "2015037\n",
      "2015007\n",
      "2014007\n",
      "2014009\n",
      "2014031\n",
      "2014053\n",
      "2014030\n",
      "2014008\n",
      "2014001\n",
      "2014006\n",
      "2014052\n"
     ]
    }
   ],
   "source": [
    "for id in ids:\n",
    "    print(id)\n",
    "    participant = full_data[full_data['Participant']==id]\n",
    "    participant = participant.reset_index(drop=True)\n",
    "    for s in speeds:\n",
    "        p_speed = participant[participant[\"Speed\"] == s]\n",
    "        p_speed = p_speed.reset_index(drop=True)\n",
    "        for t in trials:\n",
    "            p_speed_trial = p_speed[p_speed[\"Trial\"] == t]\n",
    "            p_speed_trial = p_speed_trial.reset_index(drop=True)\n",
    "            p_speed_trial[\"timestamp\"] = p_speed_trial.index\n",
    "            path = \"C:\\\\Users\\\\sakhn\\\\Downloads\\\\markers\\\\missing2\\\\markers_\" +str(id ) + \"_\" +str(s) + \"_\" + str(t) + \".csv\"\n",
    "            p_speed_trial.to_csv(path, index=False)"
   ]
  },
  {
   "cell_type": "code",
   "execution_count": null,
   "metadata": {},
   "outputs": [],
   "source": []
  }
 ],
 "metadata": {
  "colab": {
   "name": "data_processing.ipynb",
   "provenance": []
  },
  "kernelspec": {
   "display_name": "Python 3",
   "language": "python",
   "name": "python3"
  },
  "language_info": {
   "codemirror_mode": {
    "name": "ipython",
    "version": 3
   },
   "file_extension": ".py",
   "mimetype": "text/x-python",
   "name": "python",
   "nbconvert_exporter": "python",
   "pygments_lexer": "ipython3",
   "version": "3.7.7"
  }
 },
 "nbformat": 4,
 "nbformat_minor": 1
}
