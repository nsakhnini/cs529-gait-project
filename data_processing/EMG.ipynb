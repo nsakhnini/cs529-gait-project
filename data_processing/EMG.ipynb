{
 "cells": [
  {
   "cell_type": "code",
   "execution_count": 1,
   "metadata": {
    "id": "vxiBNtVV_mVC"
   },
   "outputs": [],
   "source": [
    "# pip install c3d"
   ]
  },
  {
   "cell_type": "code",
   "execution_count": 2,
   "metadata": {
    "id": "HQw_SeNF_sZ1"
   },
   "outputs": [],
   "source": [
    "import c3d, csv, os"
   ]
  },
  {
   "cell_type": "code",
   "execution_count": 3,
   "metadata": {},
   "outputs": [
    {
     "name": "stdout",
     "output_type": "stream",
     "text": [
      "Number of C3D files found: 1143\n"
     ]
    }
   ],
   "source": [
    "counter = 0\n",
    "filepaths = []\n",
    "for root, dirs, files in os.walk('data'):\n",
    "    if len(files) > 1:\n",
    "        for file in files:\n",
    "            if 'ST' not in file:\n",
    "                counter += 1    \n",
    "                filepath = root + \"/\" + file\n",
    "                filepaths.append(filepath)\n",
    "filepaths.sort()\n",
    "print(\"Number of C3D files found:\", counter)"
   ]
  },
  {
   "cell_type": "code",
   "execution_count": 4,
   "metadata": {},
   "outputs": [],
   "source": [
    "%%capture cap --no-stderr\n",
    "# we only read the labels once from one file since they are the same in all files\n",
    "file = \"data/2014001/2014001_C1_01.c3d\"\n",
    "%run -i c3d-metadata $file"
   ]
  },
  {
   "cell_type": "code",
   "execution_count": 5,
   "metadata": {},
   "outputs": [],
   "source": [
    "with open('output.txt', 'w') as f:\n",
    "    f.write(cap.stdout)\n",
    "\n",
    "with open('participants.csv', mode='w') as participants:\n",
    "    writer = csv.writer(participants)\n",
    "    header1 = \"Participant Speed Trial \"\n",
    "    header2 = \"# # # \"\n",
    "    header3 = \" \"\n",
    "    r = open('output.txt')\n",
    "    analog = 0\n",
    "    for index, line in enumerate(r):\n",
    "        if \"ANALOG.LABELS[\" in line:\n",
    "            marker = line.split(' ')[2].split('\\'')[1]\n",
    "            for i in range(0, 15):\n",
    "                header1 += marker + ' '\n",
    "                header2 += str(i + 1) + ' '\n",
    "            analog += 1\n",
    "            if analog == 8:\n",
    "                break\n",
    "    writer.writerow(header1.split(' '))\n",
    "    writer.writerow(header2.split(' '))\n",
    "    writer.writerow(header3)\n",
    "\n",
    "    # Frame data starts here\n",
    "    #\n",
    "    # There are 20 (300/15) analog variables (8 for EMG and 12 for Forceplate):\n",
    "    #     analog_count: 300\n",
    "    #     analog_per_frame: 15\n",
    "    #\n",
    "    count = 0\n",
    "    for path in filepaths:\n",
    "        handle = open(path, 'rb')\n",
    "        reader = c3d.Reader(handle)\n",
    "        ID = handle.name.split('/')[2].split('_')[0]\n",
    "        speed = handle.name.split('_')[1][1]\n",
    "        trial = handle.name.split('_')[2].split('.')[0][1]\n",
    "        counter = 0\n",
    "        row = ID + \" \" + speed + \" \" + trial + \" \"\n",
    "        for item in reader.read_frames():\n",
    "            # item[2] contains the array with all 300 analog variables\n",
    "            counter += 1\n",
    "            for i in range(0, 8): # item[2][0] to item[2][7] are the EMG analog values\n",
    "                for j in range(0, 15):\n",
    "                    row += str(item[2][i][j]) + ' '\n",
    "            writer.writerow(row.split(' '))\n",
    "            row = ID + \" \" + speed + \" \" + trial + \" \"\n",
    "        count += 1\n",
    "        # only write two participants to the CSV then exit ### comment out next 2 lines for full dataset\n",
    "        if count == 45:\n",
    "            break"
   ]
  }
 ],
 "metadata": {
  "colab": {
   "name": "data_processing.ipynb",
   "provenance": []
  },
  "kernelspec": {
   "display_name": "Python 3",
   "language": "python",
   "name": "python3"
  },
  "language_info": {
   "codemirror_mode": {
    "name": "ipython",
    "version": 3
   },
   "file_extension": ".py",
   "mimetype": "text/x-python",
   "name": "python",
   "nbconvert_exporter": "python",
   "pygments_lexer": "ipython3",
   "version": "3.7.3"
  }
 },
 "nbformat": 4,
 "nbformat_minor": 1
}
