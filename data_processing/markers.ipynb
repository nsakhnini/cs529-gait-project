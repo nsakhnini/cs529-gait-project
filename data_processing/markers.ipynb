{
 "cells": [
  {
   "cell_type": "code",
   "execution_count": 1,
   "metadata": {},
   "outputs": [],
   "source": [
    "# pip install c3d"
   ]
  },
  {
   "cell_type": "code",
   "execution_count": 2,
   "metadata": {},
   "outputs": [],
   "source": [
    "import c3d, csv, os"
   ]
  },
  {
   "cell_type": "code",
   "execution_count": 3,
   "metadata": {},
   "outputs": [
    {
     "name": "stdout",
     "output_type": "stream",
     "text": [
      "Number of C3D files found: 1143\n"
     ]
    }
   ],
   "source": [
    "counter = 0\n",
    "filepaths = []\n",
    "for root, dirs, files in os.walk('C:\\\\Users\\\\sakhn\\\\Downloads\\\\gait_data\\\\data'):\n",
    "    if len(files) > 1:\n",
    "        for file in files:\n",
    "            if 'ST' not in file:\n",
    "                counter += 1    \n",
    "                filepath = root + \"\\\\\" + file\n",
    "                filepaths.append(filepath)\n",
    "filepaths.sort()\n",
    "print(\"Number of C3D files found:\", counter)"
   ]
  },
  {
   "cell_type": "code",
   "execution_count": 4,
   "metadata": {},
   "outputs": [],
   "source": [
    "%%capture cap --no-stderr\n",
    "# we only read the labels once from one file since they are the same in all files\n",
    "file = \"C:\\\\Users\\\\sakhn\\\\Downloads\\\\gait_data\\\\data\\\\2014001\\\\2014001_C1_01.c3d\"\n",
    "%run -i c3d-metadata $file"
   ]
  },
  {
   "cell_type": "code",
   "execution_count": 5,
   "metadata": {},
   "outputs": [],
   "source": [
    "with open('output.txt', 'w') as f:\n",
    "    f.write(cap.stdout)\n",
    "\n",
    "with open('markers.csv', mode='w') as participants:\n",
    "    writer = csv.writer(participants)\n",
    "    header1 = \"Participant Speed Trial \"\n",
    "    header2 = \"# # # \"\n",
    "    header3 = \" \"\n",
    "    r = open('output.txt')\n",
    "    for index, line in enumerate(r):\n",
    "        if \"POINT.LABELS[\" in line:\n",
    "            marker = line.split(' ')[2].split('\\'')[1]\n",
    "            header1 += marker + ' ' + marker + ' ' + marker + ' '\n",
    "            header2 += \"X Y Z\" + ' '\n",
    "    writer.writerow(header1.split(' '))\n",
    "    writer.writerow(header2.split(' '))\n",
    "    writer.writerow(header3)\n",
    "\n",
    "    # frame data starts here\n",
    "    count = 0\n",
    "    for path in filepaths:\n",
    "        handle = open(path, 'rb')\n",
    "        reader = c3d.Reader(handle)\n",
    "        ID = handle.name.split('\\\\')[7].split('_')[0]\n",
    "        speed = handle.name.split('_')[2]\n",
    "        trial = handle.name.split('_')[3].split('.')[0]\n",
    "        counter = 0\n",
    "        row = ID + \" \" + speed + \" \" + trial + \" \"\n",
    "        for item in reader.read_frames():\n",
    "            counter += 1\n",
    "            for i in range(0, len(item[1])):\n",
    "                # item[1] contains the 52 markers with 3 values each (X, Y, Z)\n",
    "                row += str(item[1][i][0]) + ' ' + str(item[1][i][1]) + ' ' + str(item[1][i][2]) + ' '\n",
    "            writer.writerow(row.split(' '))\n",
    "            row = ID + \" \" + speed + \" \" + trial + \" \"\n",
    "        count += 1\n",
    "        # only write two participants to the CSV then exit ### comment out next 2 lines for full dataset\n",
    "        #if count == 45:\n",
    "         #   break"
   ]
  },
  {
   "cell_type": "code",
   "execution_count": null,
   "metadata": {},
   "outputs": [],
   "source": []
  }
 ],
 "metadata": {
  "kernelspec": {
   "display_name": "Python 3",
   "language": "python",
   "name": "python3"
  },
  "language_info": {
   "codemirror_mode": {
    "name": "ipython",
    "version": 3
   },
   "file_extension": ".py",
   "mimetype": "text/x-python",
   "name": "python",
   "nbconvert_exporter": "python",
   "pygments_lexer": "ipython3",
   "version": "3.7.7"
  }
 },
 "nbformat": 4,
 "nbformat_minor": 4
}
